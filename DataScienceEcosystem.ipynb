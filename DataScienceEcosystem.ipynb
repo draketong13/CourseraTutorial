{
 "cells": [
  {
   "cell_type": "markdown",
   "id": "ab7d6bcb",
   "metadata": {},
   "source": [
    "Exercise 2: Create markdown cell with title of the notebook\n",
    "# Data Science Tools and Ecosystem"
   ]
  },
  {
   "cell_type": "markdown",
   "id": "6df749a2",
   "metadata": {},
   "source": [
    "Exercise 3: Create a markdown cell for an introduction\n",
    "## In this notebook, Data Science Tools and Ecosystem are summarized."
   ]
  },
  {
   "cell_type": "markdown",
   "id": "00c0c1ac",
   "metadata": {},
   "source": [
    "Exercise 4: Create a markdown cell to list data science languages\n",
    "## Some of the popular languages that Data Scienties use are:\n",
    "1. Python\n",
    "2. R language\n",
    "3. SQL"
   ]
  },
  {
   "cell_type": "markdown",
   "id": "1fc440ba",
   "metadata": {},
   "source": [
    "Exercise 5: Create a markdown cell to list data science libraries\n",
    "## Some of the commonly used libraries used by Data Scientists include:\n",
    "1. Scientific Computing Libraries in Python \n",
    "2. Visualization Libraries in Python\n",
    "3. High-Level-Machine Learning and Deep Learning\n",
    "4. Deep Learning Libraries in Python\n",
    "5. Libraries used in other languages"
   ]
  },
  {
   "cell_type": "markdown",
   "id": "f46c1dfd",
   "metadata": {},
   "source": [
    "Exercise 6: Create a markdown cell with a table of Data Science tools\n",
    "## Data Science Tools\n",
    "|DATA SCIENCE TOOLS|Example|\n",
    "|--|--|\n",
    "|Data Management|MySQL, MongoDB|\n",
    "|Data Integration and Transformation|Apache AirFlow, Apache SparkSQL|\n",
    "|Data Visualization|Pixie Dust, Hue|\n",
    "|Model Deployment|Apache PredictionIO, TensorFlow lite, Tensorflow dot JS|\n",
    "|Model Monitoring|ModelDB, IBM AI Fairness 360|\n",
    "|Code Asset Management|Git, GitHub, Bitbucket|\n",
    "|Data Asset Management|Apache Atlas, Kylo|"
   ]
  },
  {
   "cell_type": "markdown",
   "id": "807f261b",
   "metadata": {},
   "source": [
    "Exercise 7: Create a markdown cell introducing arithmetic expression examples\n",
    "### Below are a few examples of evaluating arithmetic expressions in Python\n",
    "|Operators|Syntax|Functioning|\n",
    "|--|--|--|\n",
    "|+|x+y|Additon|\n",
    "|-|x-y|Subtraction|\n",
    "|* |x* y|Multiplication|\n",
    "|/|x/y|Division|\n",
    "|//|x//y|Quotient|\n",
    "|%|x%y|Remainder|\n",
    "|** |x** y|Exponentiation|"
   ]
  },
  {
   "cell_type": "markdown",
   "id": "fcfa1b5f",
   "metadata": {},
   "source": [
    "Exercise 8: Create a code cell to multiply and add numbers"
   ]
  },
  {
   "cell_type": "code",
   "execution_count": 7,
   "id": "20dc60e7",
   "metadata": {},
   "outputs": [
    {
     "name": "stdout",
     "output_type": "stream",
     "text": [
      "17\n"
     ]
    }
   ],
   "source": [
    "x = (3*4)+5\n",
    "print(x)"
   ]
  },
  {
   "cell_type": "markdown",
   "id": "90626681",
   "metadata": {},
   "source": [
    "Exercise 9 - Create a code cell to convert minutes to hours"
   ]
  },
  {
   "cell_type": "code",
   "execution_count": 68,
   "id": "ea96f042",
   "metadata": {},
   "outputs": [
    {
     "name": "stdout",
     "output_type": "stream",
     "text": [
      "200 minutes is equal to 3 hours and 20 minutes\n"
     ]
    }
   ],
   "source": [
    "min_to_hour = 60\n",
    "hours = time // min_to_hour\n",
    "time %= min_to_hour\n",
    "minutes = time\n",
    "time = 200\n",
    "print(\"%d minutes is equal to %d hours and %d minutes\" % (time, hours, minutes))"
   ]
  },
  {
   "cell_type": "markdown",
   "id": "f96ecd23",
   "metadata": {},
   "source": [
    "Exercise 10 - Insert a markdown cell to list Objectives"
   ]
  },
  {
   "cell_type": "markdown",
   "id": "2f9329e4",
   "metadata": {},
   "source": [
    "## Objectives: \n",
    "### List popular languages for Data Science\n",
    "- Python\n",
    "- R language\n",
    "- SQL"
   ]
  },
  {
   "cell_type": "markdown",
   "id": "8cf6fe45",
   "metadata": {},
   "source": [
    "Exercise 11 - Create a markdown cell to indicate the Author's name"
   ]
  },
  {
   "cell_type": "markdown",
   "id": "9fa39b50",
   "metadata": {},
   "source": [
    "## Author\n",
    "Jeremy Tong\n"
   ]
  }
 ],
 "metadata": {
  "kernelspec": {
   "display_name": "Python 3 (ipykernel)",
   "language": "python",
   "name": "python3"
  },
  "language_info": {
   "codemirror_mode": {
    "name": "ipython",
    "version": 3
   },
   "file_extension": ".py",
   "mimetype": "text/x-python",
   "name": "python",
   "nbconvert_exporter": "python",
   "pygments_lexer": "ipython3",
   "version": "3.7.7"
  }
 },
 "nbformat": 4,
 "nbformat_minor": 5
}
